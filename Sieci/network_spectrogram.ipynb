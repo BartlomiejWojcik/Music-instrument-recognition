{
 "cells": [
  {
   "cell_type": "code",
   "execution_count": 2,
   "metadata": {},
   "outputs": [
    {
     "name": "stderr",
     "output_type": "stream",
     "text": [
      "Using TensorFlow backend.\n"
     ]
    }
   ],
   "source": [
    "import matplotlib.pyplot as plt\n",
    "import numpy as np\n",
    "from pathlib import Path\n",
    "import os\n",
    "from sklearn.model_selection import train_test_split\n",
    "from keras.utils import to_categorical\n",
    "path = Path(os.path.abspath(''))"
   ]
  },
  {
   "cell_type": "code",
   "execution_count": 3,
   "metadata": {},
   "outputs": [],
   "source": [
    "train_X = np.load(str(path) + '\\\\train_X.npy')\n",
    "train_y = np.load(str(path) + '\\\\train_y.npy')"
   ]
  },
  {
   "cell_type": "code",
   "execution_count": 4,
   "metadata": {},
   "outputs": [],
   "source": [
    "X_train, X_test, y_train, y_test = train_test_split(train_X, train_y, test_size=0.3, random_state=42)"
   ]
  },
  {
   "cell_type": "code",
   "execution_count": 5,
   "metadata": {},
   "outputs": [
    {
     "name": "stdout",
     "output_type": "stream",
     "text": [
      "(4693, 128, 130)\n",
      "(2012, 128, 130)\n"
     ]
    }
   ],
   "source": [
    "print(X_train.shape)\n",
    "print(X_test.shape)"
   ]
  },
  {
   "cell_type": "code",
   "execution_count": 6,
   "metadata": {},
   "outputs": [],
   "source": [
    "X_train = X_train.reshape(4693,128,130,1)\n",
    "X_test = X_test.reshape(2012,128,130,1)"
   ]
  },
  {
   "cell_type": "code",
   "execution_count": 7,
   "metadata": {},
   "outputs": [],
   "source": [
    "# y_train = to_categorical(y_train)\n",
    "# y_test = to_categorical(y_test)"
   ]
  },
  {
   "cell_type": "code",
   "execution_count": 8,
   "metadata": {},
   "outputs": [],
   "source": [
    "from keras.utils import to_categorical\n",
    "from keras.models import Sequential\n",
    "from keras.layers import Dense, Conv2D, Flatten"
   ]
  },
  {
   "cell_type": "code",
   "execution_count": 9,
   "metadata": {},
   "outputs": [],
   "source": [
    "model = Sequential()"
   ]
  },
  {
   "cell_type": "code",
   "execution_count": 10,
   "metadata": {},
   "outputs": [],
   "source": [
    "#model ver 0.1\n",
    "model.add(Conv2D(128, kernel_size=3, activation='relu', input_shape=(128,130,1)))\n",
    "model.add(Conv2D(64, kernel_size=3, activation='relu'))\n",
    "model.add(Conv2D(32, kernel_size=3, activation='relu'))\n",
    "model.add(Flatten())\n",
    "model.add(Dense(11, activation='sigmoid'))"
   ]
  },
  {
   "cell_type": "code",
   "execution_count": 11,
   "metadata": {},
   "outputs": [],
   "source": [
    "model.compile(loss='binary_crossentropy', optimizer='adam', metrics=['accuracy'])"
   ]
  },
  {
   "cell_type": "code",
   "execution_count": 12,
   "metadata": {},
   "outputs": [
    {
     "name": "stdout",
     "output_type": "stream",
     "text": [
      "[<tf.Tensor 'conv2d_1_input:0' shape=(None, 128, 130, 1) dtype=float32>]\n"
     ]
    }
   ],
   "source": [
    "print(model.inputs)"
   ]
  },
  {
   "cell_type": "code",
   "execution_count": 26,
   "metadata": {},
   "outputs": [
    {
     "name": "stdout",
     "output_type": "stream",
     "text": [
      "Train on 4693 samples, validate on 2012 samples\n",
      "Epoch 1/10\n",
      "4693/4693 [==============================] - 462s 98ms/step - loss: 0.3697 - accuracy: 0.8901 - val_loss: 0.2984 - val_accuracy: 0.8969\n",
      "Epoch 2/10\n",
      "4693/4693 [==============================] - 459s 98ms/step - loss: 0.2365 - accuracy: 0.9120 - val_loss: 0.3284 - val_accuracy: 0.8957\n",
      "Epoch 3/10\n",
      "4693/4693 [==============================] - 458s 98ms/step - loss: 0.1394 - accuracy: 0.9475 - val_loss: 0.5487 - val_accuracy: 0.8884\n",
      "Epoch 4/10\n",
      "4693/4693 [==============================] - 497s 106ms/step - loss: 0.0865 - accuracy: 0.9705 - val_loss: 0.6742 - val_accuracy: 0.8745\n",
      "Epoch 5/10\n",
      "4693/4693 [==============================] - 476s 102ms/step - loss: 0.0694 - accuracy: 0.9791 - val_loss: 0.8522 - val_accuracy: 0.8809\n",
      "Epoch 6/10\n",
      "4693/4693 [==============================] - 467s 99ms/step - loss: 0.0566 - accuracy: 0.9844 - val_loss: 1.5846 - val_accuracy: 0.8902\n",
      "Epoch 7/10\n",
      "4693/4693 [==============================] - 477s 102ms/step - loss: 0.0524 - accuracy: 0.9869 - val_loss: 1.5963 - val_accuracy: 0.8780\n",
      "Epoch 8/10\n",
      "4693/4693 [==============================] - 461s 98ms/step - loss: 0.0412 - accuracy: 0.9894 - val_loss: 1.4406 - val_accuracy: 0.8789\n",
      "Epoch 9/10\n",
      "4693/4693 [==============================] - 460s 98ms/step - loss: 0.0272 - accuracy: 0.9931 - val_loss: 1.9985 - val_accuracy: 0.8810\n",
      "Epoch 10/10\n",
      "4693/4693 [==============================] - 466s 99ms/step - loss: 0.0207 - accuracy: 0.9947 - val_loss: 1.9381 - val_accuracy: 0.8813\n"
     ]
    },
    {
     "data": {
      "text/plain": [
       "<keras.callbacks.callbacks.History at 0x1d16b0b4988>"
      ]
     },
     "execution_count": 26,
     "metadata": {},
     "output_type": "execute_result"
    }
   ],
   "source": [
    "model.fit(X_train, y_train, validation_data=(X_test, y_test), epochs=10)"
   ]
  },
  {
   "cell_type": "code",
   "execution_count": 27,
   "metadata": {},
   "outputs": [],
   "source": [
    "model.reset_metrics()"
   ]
  },
  {
   "cell_type": "code",
   "execution_count": 28,
   "metadata": {},
   "outputs": [],
   "source": [
    "model.save('ir-model-v_0_3.h5')"
   ]
  },
  {
   "cell_type": "code",
   "execution_count": null,
   "metadata": {},
   "outputs": [],
   "source": []
  }
 ],
 "metadata": {
  "kernelspec": {
   "display_name": "Python 3",
   "language": "python",
   "name": "python3"
  },
  "language_info": {
   "codemirror_mode": {
    "name": "ipython",
    "version": 3
   },
   "file_extension": ".py",
   "mimetype": "text/x-python",
   "name": "python",
   "nbconvert_exporter": "python",
   "pygments_lexer": "ipython3",
   "version": "3.7.7"
  }
 },
 "nbformat": 4,
 "nbformat_minor": 4
}
