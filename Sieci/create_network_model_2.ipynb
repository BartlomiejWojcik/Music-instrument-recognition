{
 "cells": [
  {
   "cell_type": "code",
   "execution_count": 106,
   "metadata": {},
   "outputs": [],
   "source": [
    "import matplotlib.pyplot as plt\n",
    "import numpy as np\n",
    "from pathlib import Path\n",
    "import os\n",
    "from sklearn.model_selection import train_test_split\n",
    "from keras.utils import to_categorical\n",
    "from keras.models import Sequential\n",
    "from keras.layers import Dense, Conv2D, Flatten"
   ]
  },
  {
   "cell_type": "code",
   "execution_count": 107,
   "metadata": {},
   "outputs": [],
   "source": [
    "path = Path(os.path.abspath(''))"
   ]
  },
  {
   "cell_type": "code",
   "execution_count": 108,
   "metadata": {},
   "outputs": [],
   "source": [
    "train_x = np.load(str(path) + '\\\\train_X.npy')\n",
    "train_y = np.load(str(path) + '\\\\train_y.npy')\n",
    "\n",
    "test_x = np.load(str(path) + '\\\\test_X.npy')\n",
    "test_y = np.load(str(path) + '\\\\test_y.npy')"
   ]
  },
  {
   "cell_type": "code",
   "execution_count": 109,
   "metadata": {},
   "outputs": [],
   "source": [
    "#bo za dlugo sie liczy :c ale mozna usunac\n",
    "\n",
    "train_samples = 1000\n",
    "test_samples = 500\n",
    "\n",
    "train_x = train_x[:train_samples]\n",
    "train_y = train_y[:train_samples]\n",
    "\n",
    "test_x = test_x[:test_samples]\n",
    "test_y = test_y[:test_samples]\n",
    "\n",
    "train_x = train_x.reshape(train_samples, 128, 130,1)\n",
    "test_x = test_x.reshape(test_samples, 128, 130, 1)"
   ]
  },
  {
   "cell_type": "code",
   "execution_count": 110,
   "metadata": {},
   "outputs": [],
   "source": [
    "model = Sequential()"
   ]
  },
  {
   "cell_type": "code",
   "execution_count": 111,
   "metadata": {},
   "outputs": [],
   "source": [
    "model.add(Conv2D(128, kernel_size=3, activation='relu', input_shape=(128,130,1)))\n",
    "model.add(Conv2D(64, kernel_size=3, activation='relu'))\n",
    "model.add(Conv2D(32, kernel_size=3, activation='relu'))\n",
    "model.add(Flatten())\n",
    "model.add(Dense(11, activation='sigmoid'))"
   ]
  },
  {
   "cell_type": "code",
   "execution_count": 112,
   "metadata": {},
   "outputs": [],
   "source": [
    "model.compile(loss='binary_crossentropy', optimizer='adam', metrics=['accuracy'])"
   ]
  },
  {
   "cell_type": "code",
   "execution_count": 113,
   "metadata": {},
   "outputs": [],
   "source": [
    "train_x = train_x.reshape(train_samples, 128, 130,1)\n",
    "test_x = test_x.reshape(test_samples, 128, 130, 1)"
   ]
  },
  {
   "cell_type": "code",
   "execution_count": 114,
   "metadata": {},
   "outputs": [
    {
     "name": "stdout",
     "output_type": "stream",
     "text": [
      "Train on 1000 samples, validate on 500 samples\n",
      "Epoch 1/10\n",
      "1000/1000 [==============================] - 248s 248ms/step - loss: 0.2433 - accuracy: 0.9325 - val_loss: 1.5997 - val_accuracy: 0.7238\n",
      "Epoch 2/10\n",
      "1000/1000 [==============================] - 246s 246ms/step - loss: 0.1052 - accuracy: 0.9604 - val_loss: 2.9474 - val_accuracy: 0.7536\n",
      "Epoch 3/10\n",
      "1000/1000 [==============================] - 245s 245ms/step - loss: 0.0671 - accuracy: 0.9752 - val_loss: 3.4178 - val_accuracy: 0.7453\n",
      "Epoch 4/10\n",
      "1000/1000 [==============================] - 246s 246ms/step - loss: 0.0485 - accuracy: 0.9821 - val_loss: 8.3044 - val_accuracy: 0.7502\n",
      "Epoch 5/10\n",
      "1000/1000 [==============================] - 245s 245ms/step - loss: 0.0444 - accuracy: 0.9864 - val_loss: 7.4925 - val_accuracy: 0.7542\n",
      "Epoch 6/10\n",
      "1000/1000 [==============================] - 245s 245ms/step - loss: 0.0380 - accuracy: 0.9890 - val_loss: 7.3377 - val_accuracy: 0.7447\n",
      "Epoch 7/10\n",
      "1000/1000 [==============================] - 251s 251ms/step - loss: 0.0283 - accuracy: 0.9906 - val_loss: 10.7747 - val_accuracy: 0.7562\n",
      "Epoch 8/10\n",
      "1000/1000 [==============================] - 250s 250ms/step - loss: 0.0268 - accuracy: 0.9924 - val_loss: 13.2458 - val_accuracy: 0.7478\n",
      "Epoch 9/10\n",
      "1000/1000 [==============================] - 246s 246ms/step - loss: 0.0251 - accuracy: 0.9934 - val_loss: 8.8284 - val_accuracy: 0.7489\n",
      "Epoch 10/10\n",
      "1000/1000 [==============================] - 245s 245ms/step - loss: 0.0182 - accuracy: 0.9945 - val_loss: 11.9853 - val_accuracy: 0.7462\n"
     ]
    }
   ],
   "source": [
    "fit = model.fit(train_x, train_y, validation_data=(test_x, test_y), epochs=10)"
   ]
  },
  {
   "cell_type": "code",
   "execution_count": 115,
   "metadata": {},
   "outputs": [
    {
     "name": "stdout",
     "output_type": "stream",
     "text": [
      "500/500 [==============================] - 18s 36ms/step\n"
     ]
    },
    {
     "data": {
      "text/plain": [
       "[11.98531470489502, 0.7461819648742676]"
      ]
     },
     "execution_count": 115,
     "metadata": {},
     "output_type": "execute_result"
    }
   ],
   "source": [
    "#75% skutecznosci, to tak srednio\n",
    "\n",
    "results = model.evaluate(test_x, test_y)\n",
    "results"
   ]
  },
  {
   "cell_type": "code",
   "execution_count": 116,
   "metadata": {},
   "outputs": [
    {
     "data": {
      "text/plain": [
       "dict_keys(['val_loss', 'val_accuracy', 'loss', 'accuracy'])"
      ]
     },
     "execution_count": 116,
     "metadata": {},
     "output_type": "execute_result"
    }
   ],
   "source": [
    "hist_dict = fit.history\n",
    "hist_dict.keys()"
   ]
  },
  {
   "cell_type": "code",
   "execution_count": 117,
   "metadata": {},
   "outputs": [],
   "source": [
    "acc = hist_dict['accuracy']\n",
    "val_acc = hist_dict['val_accuracy']\n",
    "loss = hist_dict['loss']\n",
    "val_loss = hist_dict['val_loss']"
   ]
  },
  {
   "cell_type": "code",
   "execution_count": 118,
   "metadata": {},
   "outputs": [],
   "source": [
    "epochs = range(1, len(acc)+1)"
   ]
  },
  {
   "cell_type": "code",
   "execution_count": 119,
   "metadata": {},
   "outputs": [
    {
     "data": {
      "image/png": "[encoded data removed]",
      "text/plain": [
       "<Figure size 432x288 with 1 Axes>"
      ]
     },
     "metadata": {
      "needs_background": "light"
     },
     "output_type": "display_data"
    }
   ],
   "source": [
    "plt.plot(epochs, loss, 'bo', label='strata trenowania') #kropki\n",
    "plt.plot(epochs, val_loss, 'b', label='strata walidacji')\n",
    "\n",
    "plt.xlabel('epoki')\n",
    "plt.ylabel('strata')\n",
    "plt.legend()\n",
    "\n",
    "plt.show()"
   ]
  },
  {
   "cell_type": "code",
   "execution_count": 120,
   "metadata": {},
   "outputs": [
    {
     "data": {
      "image/png": "[encoded data removed]",
      "text/plain": [
       "<Figure size 432x288 with 1 Axes>"
      ]
     },
     "metadata": {
      "needs_background": "light"
     },
     "output_type": "display_data"
    }
   ],
   "source": [
    "plt.clf()\n",
    "plt.plot(epochs, acc, 'bo', label='dokladnosc trenowania')\n",
    "plt.plot(epochs,val_acc, 'b', label='dokladnosc walidacji')\n",
    "\n",
    "plt.xlabel('epoki')\n",
    "plt.ylabel('strata')\n",
    "plt.legend()\n",
    "\n",
    "plt.show()"
   ]
  },
  {
   "cell_type": "code",
   "execution_count": null,
   "metadata": {},
   "outputs": [],
   "source": []
  }
 ],
 "metadata": {
  "kernelspec": {
   "display_name": "Python 3",
   "language": "python",
   "name": "python3"
  },
  "language_info": {
   "codemirror_mode": {
    "name": "ipython",
    "version": 3
   },
   "file_extension": ".py",
   "mimetype": "text/x-python",
   "name": "python",
   "nbconvert_exporter": "python",
   "pygments_lexer": "ipython3",
   "version": "3.7.4"
  }
 },
 "nbformat": 4,
 "nbformat_minor": 2
}
