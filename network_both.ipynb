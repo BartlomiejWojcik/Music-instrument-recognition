{
 "cells": [
  {
   "cell_type": "code",
   "execution_count": 85,
   "metadata": {},
   "outputs": [],
   "source": [
    "import matplotlib.pyplot as plt\n",
    "import numpy as np\n",
    "from pathlib import Path\n",
    "import os\n",
    "from sklearn.model_selection import train_test_split\n",
    "from keras.utils import to_categorical\n",
    "from keras.models import Sequential\n",
    "from keras.layers import Dense, Conv2D, Flatten"
   ]
  },
  {
   "cell_type": "code",
   "execution_count": 86,
   "metadata": {},
   "outputs": [],
   "source": [
    "path = Path(os.path.abspath(''))"
   ]
  },
  {
   "cell_type": "code",
   "execution_count": 87,
   "metadata": {},
   "outputs": [
    {
     "data": {
      "text/plain": [
       "WindowsPath('C:/Users/bartlomiej/Documents/Studia/Music-instrument-recognition')"
      ]
     },
     "execution_count": 87,
     "metadata": {},
     "output_type": "execute_result"
    }
   ],
   "source": [
    "path"
   ]
  },
  {
   "cell_type": "code",
   "execution_count": 109,
   "metadata": {},
   "outputs": [],
   "source": [
    "#Spectrogram\n",
    "train_x = np.load(str(path) + '\\\\train_X.npy')\n",
    "train_y = np.load(str(path) + '\\\\train_y.npy')\n",
    "\n",
    "train_x, test_x, train_y, test_y = train_test_split(train_x, train_y, test_size=0.3, random_state=42)"
   ]
  },
  {
   "cell_type": "code",
   "execution_count": 111,
   "metadata": {},
   "outputs": [
    {
     "name": "stdout",
     "output_type": "stream",
     "text": [
      "(4693, 128, 130)\n",
      "(2012, 128, 130)\n"
     ]
    }
   ],
   "source": [
    "print(train_x.shape)\n",
    "print(test_x.shape)"
   ]
  },
  {
   "cell_type": "code",
   "execution_count": 113,
   "metadata": {},
   "outputs": [],
   "source": [
    "train_x = train_x.reshape(4693,128,130,1)\n",
    "test_x = test_x.reshape(2012,128,130,1)"
   ]
  },
  {
   "cell_type": "code",
   "execution_count": 114,
   "metadata": {},
   "outputs": [],
   "source": [
    "from keras.layers import Input\n",
    "trainInput = Input(shape=(128,130,1))\n",
    "\n",
    "x = Conv2D(128, kernel_size=3, activation='relu')(trainInput)\n",
    "x = Conv2D(64, kernel_size=3, activation='relu')(x)\n",
    "x = Conv2D(32, kernel_size=3, activation='relu')(x)\n",
    "x = Flatten()(x)\n",
    "x = Dense(11, activation='sigmoid')(x)"
   ]
  },
  {
   "cell_type": "code",
   "execution_count": 115,
   "metadata": {},
   "outputs": [
    {
     "name": "stdout",
     "output_type": "stream",
     "text": [
      "[<tf.Tensor 'input_22:0' shape=(None, 128, 130, 1) dtype=float32>]\n"
     ]
    }
   ],
   "source": [
    "from keras.models import Model\n",
    "xModel = Model(inputs=trainInput, outputs=x)"
   ]
  },
  {
   "cell_type": "code",
   "execution_count": 116,
   "metadata": {
    "scrolled": true
   },
   "outputs": [],
   "source": [
    "#Parameters\n",
    "from sklearn.model_selection import train_test_split\n",
    "import cv2\n",
    "import pandas as pd\n",
    "from sklearn.preprocessing import LabelEncoder, StandardScaler\n",
    "\n",
    "data = pd.read_csv('C:/Users/bartlomiej/Documents/Studia/Music-instrument-recognition/Sieci/data.csv')\n",
    "genre_list = data.iloc[:, -1]\n",
    "encoder = LabelEncoder()\n",
    "y = encoder.fit_transform(genre_list)\n",
    "\n",
    "scaler = StandardScaler()\n",
    "X = scaler.fit_transform(np.array(data.iloc[:, :-1], dtype=float))\n",
    "\n",
    "x_train, x_test, y_train, y_test = train_test_split(X, y, test_size=0.3, random_state=42)\n",
    "\n",
    "\n",
    "# y_train = to_categorical(y_train)\n",
    "# y_test = to_categorical(y_test)\n"
   ]
  },
  {
   "cell_type": "code",
   "execution_count": 117,
   "metadata": {},
   "outputs": [
    {
     "name": "stdout",
     "output_type": "stream",
     "text": [
      "(4693, 25)\n",
      "(2012, 25)\n"
     ]
    }
   ],
   "source": [
    "print(x_train.shape)\n",
    "print(x_test.shape)"
   ]
  },
  {
   "cell_type": "code",
   "execution_count": 118,
   "metadata": {},
   "outputs": [],
   "source": [
    "trainInput2 = Input(shape=(25,))\n",
    "\n",
    "y = Dense(128, activation='relu')(trainInput2)\n",
    "y = Dense(64, activation='relu')(y)\n",
    "y = Dense(32, activation='relu')(y)\n",
    "y = Dense(11, activation='sigmoid')(y)"
   ]
  },
  {
   "cell_type": "code",
   "execution_count": 119,
   "metadata": {},
   "outputs": [],
   "source": [
    "yModel = Model(inputs=trainInput2, outputs=y)"
   ]
  },
  {
   "cell_type": "code",
   "execution_count": 120,
   "metadata": {},
   "outputs": [],
   "source": [
    "from keras.layers import concatenate\n",
    "combined = concatenate([xModel.output, yModel.output])"
   ]
  },
  {
   "cell_type": "code",
   "execution_count": 121,
   "metadata": {},
   "outputs": [],
   "source": [
    "z = Dense(4, activation=\"relu\")(combined)\n",
    "z = Dense(1, activation=\"linear\")(z)"
   ]
  },
  {
   "cell_type": "code",
   "execution_count": 123,
   "metadata": {},
   "outputs": [],
   "source": [
    "model = Model(inputs=[xModel.input, yModel.input], outputs=x)\n",
    "model.compile(loss=\"binary_crossentropy\", optimizer='adam', metrics=['accuracy'])"
   ]
  },
  {
   "cell_type": "code",
   "execution_count": 126,
   "metadata": {},
   "outputs": [
    {
     "name": "stdout",
     "output_type": "stream",
     "text": [
      "Train on 4693 samples, validate on 2012 samples\n",
      "Epoch 1/3\n",
      "4693/4693 [==============================] - 482s 103ms/step - loss: 0.3016 - accuracy: 0.8983 - val_loss: 0.3021 - val_accuracy: 0.8941\n",
      "Epoch 2/3\n",
      "4693/4693 [==============================] - 473s 101ms/step - loss: 0.2163 - accuracy: 0.9201 - val_loss: 0.3732 - val_accuracy: 0.8935\n",
      "Epoch 3/3\n",
      "4693/4693 [==============================] - 479s 102ms/step - loss: 0.1268 - accuracy: 0.9538 - val_loss: 0.5343 - val_accuracy: 0.8837\n"
     ]
    }
   ],
   "source": [
    "fit = model.fit([train_x, x_train], train_y, validation_data=([test_x, x_test], test_y), epochs=3)"
   ]
  },
  {
   "cell_type": "code",
   "execution_count": 127,
   "metadata": {},
   "outputs": [],
   "source": [
    "model.reset_metrics()"
   ]
  },
  {
   "cell_type": "code",
   "execution_count": 128,
   "metadata": {},
   "outputs": [],
   "source": [
    "model.save('ir-both-model-v_0_3.h5')"
   ]
  },
  {
   "cell_type": "code",
   "execution_count": 129,
   "metadata": {},
   "outputs": [
    {
     "name": "stdout",
     "output_type": "stream",
     "text": [
      "[<tf.Tensor 'input_22:0' shape=(None, 128, 130, 1) dtype=float32>, <tf.Tensor 'input_23:0' shape=(None, 25) dtype=float32>]\n"
     ]
    }
   ],
   "source": [
    "print(model.input)"
   ]
  },
  {
   "cell_type": "code",
   "execution_count": null,
   "metadata": {},
   "outputs": [],
   "source": []
  }
 ],
 "metadata": {
  "kernelspec": {
   "display_name": "Python 3",
   "language": "python",
   "name": "python3"
  },
  "language_info": {
   "codemirror_mode": {
    "name": "ipython",
    "version": 3
   },
   "file_extension": ".py",
   "mimetype": "text/x-python",
   "name": "python",
   "nbconvert_exporter": "python",
   "pygments_lexer": "ipython3",
   "version": "3.7.7"
  }
 },
 "nbformat": 4,
 "nbformat_minor": 2
}
